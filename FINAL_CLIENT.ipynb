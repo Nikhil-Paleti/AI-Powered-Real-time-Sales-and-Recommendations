{
 "cells": [
  {
   "cell_type": "code",
   "execution_count": 1,
   "id": "fee8f320-1b02-4c7a-bcf8-8c12e7dd9220",
   "metadata": {},
   "outputs": [],
   "source": [
    "import numpy as np\n",
    "import time\n",
    "\n",
    "import ipywidgets\n",
    "from IPython.display import display\n",
    "from jetcam.usb_camera import USBCamera\n",
    "\n",
    "import jetson.inference\n",
    "import jetson.utils\n",
    "from jetcam.utils import bgr8_to_jpeg\n",
    "import cv2\n",
    "import paho.mqtt.client as mqtt\n",
    "from IPython.display import clear_output"
   ]
  },
  {
   "cell_type": "code",
   "execution_count": 2,
   "id": "a060c3d7-6c8b-43f7-b2a1-86714631987f",
   "metadata": {},
   "outputs": [],
   "source": [
    "def send_data(final_string):\n",
    "    global products_list, out\n",
    "    client = mqtt.Client()\n",
    "    client.connect(\"192.168.136.253\", 1883, 60)\n",
    "    print(\"connected\")\n",
    "    client.publish(\"test\", final_string)\n",
    "    client.disconnect()\n",
    "    products_list = []\n",
    "    with out:\n",
    "        clear_output()"
   ]
  },
  {
   "cell_type": "code",
   "execution_count": 3,
   "id": "48ea6297-a2ab-4e99-9f9e-1e1343f60b04",
   "metadata": {},
   "outputs": [],
   "source": [
    "available_items = [\n",
    "    \"apple\", \"backpack\", \"banana\", \"bed\", \"blender\", \"book\", \"bottle\",\n",
    "    \"bowl\", \"broccoli\", \"cake\", \"carrot\", \"cell phone\", \"chair\", \"clock\", \"couch\", \"cup\",\n",
    "    \"desk\", \"dining table\", \"donut\", \"door\", \"fork\", \"hair drier\", \"handbag\", \"hat\", \"keyboard\", \"knife\",\n",
    "    \"laptop\", \"microwave\", \"mirror\", \"mouse\", \"orange\", \"oven\", \"pizza\", \"plate\", \"potted plant\", \"refrigerator\",\n",
    "    \"remote\", \"sandwich\", \"scissors\", \"shoe\", \"sink\", \"spoon\", \"suitcase\", \"teddy bear\", \"toaster\", \"tooth brush\", \"tv\", \"umbrella\", \"vase\", \"window\"\n",
    "]"
   ]
  },
  {
   "cell_type": "code",
   "execution_count": 4,
   "id": "afc411e5-a6f4-4d1d-8d6a-06cfd28ed8f5",
   "metadata": {},
   "outputs": [
    {
     "data": {
      "application/vnd.jupyter.widget-view+json": {
       "model_id": "54f01c47f58044128b2d431519dea6cc",
       "version_major": 2,
       "version_minor": 0
      },
      "text/plain": [
       "Image(value=b'', format='jpeg')"
      ]
     },
     "metadata": {},
     "output_type": "display_data"
    },
    {
     "data": {
      "application/vnd.jupyter.widget-view+json": {
       "model_id": "e45a76df119f4c66a4e1d85a4aebb94d",
       "version_major": 2,
       "version_minor": 0
      },
      "text/plain": [
       "VBox(children=(HBox(children=(VBox(children=(Text(value='First Last', description='Name'), IntText(value=90301…"
      ]
     },
     "metadata": {},
     "output_type": "display_data"
    }
   ],
   "source": [
    "# Creating UI widgets\n",
    "\n",
    "name_widget = ipywidgets.Text(description='Name', value=\"First Last\")\n",
    "phone_widget = ipywidgets.IntText(description= \"phone number\", value=9030116001)\n",
    "\n",
    "scan_widget = ipywidgets.Button(description=\"Scan\")\n",
    "checkout_widget = ipywidgets.Button(description=\"Checkout\")\n",
    "\n",
    "first_layout = ipywidgets.VBox([ name_widget, phone_widget])\n",
    "second_layout = ipywidgets.VBox([ scan_widget, checkout_widget ])\n",
    "\n",
    "top = ipywidgets.HBox([ first_layout, second_layout])\n",
    "\n",
    "image_widget = ipywidgets.Image(format='jpeg')\n",
    "# image_widget.value = bgr8_to_jpeg(img)\n",
    "\n",
    "out = ipywidgets.Output()\n",
    "\n",
    "live_execution_widget = ipywidgets.VBox([\n",
    "    top,\n",
    "    #image_widget,\n",
    "    out\n",
    "])\n",
    "\n",
    "products_list = []\n",
    "\n",
    "def scan_clicked(wdgt):\n",
    "    \n",
    "    global product\n",
    "    global products_list \n",
    "    \n",
    "    if product != \"\" and product in available_items: \n",
    "        product = product.replace(\" \", \"\")\n",
    "        products_list.append(product)      \n",
    "        with out:\n",
    "            print(product)\n",
    "\n",
    "        \n",
    "scan_widget.on_click(scan_clicked)\n",
    "\n",
    "def checkout_clicked(wdgt):\n",
    "    with out:\n",
    "        print(\"Checking out\")\n",
    "    final_string = name_widget.value + \" \" + str(phone_widget.value) + \" \" + \",\".join(products_list)\n",
    "    send_data(final_string)\n",
    "    # products_list = []\n",
    "    # with out:\n",
    "        # clear_output()\n",
    "\n",
    "checkout_widget.on_click(checkout_clicked)\n",
    "\n",
    "display(image_widget)\n",
    "display(live_execution_widget)"
   ]
  },
  {
   "cell_type": "code",
   "execution_count": 5,
   "id": "bf4ba83e-81e5-4561-b5a5-2aac7e926878",
   "metadata": {},
   "outputs": [
    {
     "data": {
      "text/plain": [
       "'First Last 9030116001 '"
      ]
     },
     "execution_count": 5,
     "metadata": {},
     "output_type": "execute_result"
    }
   ],
   "source": [
    "final_string = name_widget.value + \" \" + str(phone_widget.value) + \" \" + \",\".join(products_list)\n",
    "final_string"
   ]
  },
  {
   "cell_type": "code",
   "execution_count": 6,
   "id": "b5e3de3e-6ded-4c07-bc39-fc1c36a331f7",
   "metadata": {},
   "outputs": [],
   "source": [
    "net = jetson.inference.detectNet()\n",
    "camera = USBCamera(width=224, height=224, capture_width=640, capture_height=480, capture_device=0) \n",
    "img = camera.read()\n",
    "camera.running = True \n",
    "\n",
    "\n",
    "product = \"\"\n",
    "\n",
    "\n",
    "def update_image(change):\n",
    "    global product \n",
    "    global net \n",
    "    img = change[\"new\"]\n",
    "    cimg = jetson.utils.cudaFromNumpy(img)\n",
    "\n",
    "    detections = net.Detect(cimg, overlay='None')\n",
    "    for detection in detections:\n",
    "        product = net.GetClassDesc(detection.ClassID)\n",
    "        if product in available_items:\n",
    "            shape_a = (round(detection.Left), round(detection.Bottom))\n",
    "            shape_b = (round(detection.Right), round(detection.Top))\n",
    "            rgb_array = cv2.cvtColor(img, cv2.COLOR_BGR2RGB)\n",
    "            box_color = (0, 255, 255)\n",
    "            cv2.rectangle(rgb_array, shape_a, shape_b, box_color, 4)\n",
    "            stripped_label = product.rstrip('\\n')\n",
    "            cv2.putText(rgb_array, stripped_label,\n",
    "                        (round(detection.Left) + 20, round(detection.Top) + 40),\n",
    "                        cv2.FONT_HERSHEY_SIMPLEX,\n",
    "                        1,  # font scale\n",
    "                        (255, 0, 0),\n",
    "                        2)  # line type\n",
    "            # convert back to BGR\n",
    "            img = cv2.cvtColor(rgb_array, cv2.COLOR_RGB2BGR)\n",
    "    \n",
    "    img = cv2.resize(img, (640,480))\n",
    "    image_widget.value = bgr8_to_jpeg(img)"
   ]
  },
  {
   "cell_type": "code",
   "execution_count": 7,
   "id": "90c24f59-7700-40cb-98c5-f67f0313b697",
   "metadata": {},
   "outputs": [],
   "source": [
    "camera.observe(update_image, names=\"value\")"
   ]
  },
  {
   "cell_type": "code",
   "execution_count": 8,
   "id": "d1b382b0-f487-4ae4-b4a2-c76ab315874a",
   "metadata": {},
   "outputs": [],
   "source": [
    "# camera.unobserve(update_image, names='value')"
   ]
  }
 ],
 "metadata": {
  "kernelspec": {
   "display_name": "Python 3",
   "language": "python",
   "name": "python3"
  },
  "language_info": {
   "codemirror_mode": {
    "name": "ipython",
    "version": 3
   },
   "file_extension": ".py",
   "mimetype": "text/x-python",
   "name": "python",
   "nbconvert_exporter": "python",
   "pygments_lexer": "ipython3",
   "version": "3.6.9"
  }
 },
 "nbformat": 4,
 "nbformat_minor": 5
}
